{
  "nbformat": 4,
  "nbformat_minor": 0,
  "metadata": {
    "colab": {
      "provenance": []
    },
    "kernelspec": {
      "name": "python3",
      "display_name": "Python 3"
    },
    "language_info": {
      "name": "python"
    }
  },
  "cells": [
    {
      "cell_type": "code",
      "execution_count": null,
      "metadata": {
        "id": "PvwoKk3xl1OI"
      },
      "outputs": [],
      "source": [
        "import pandas as pd\n",
        "import numpy as np\n",
        "import matplotlib.pyplot as plt\n",
        "import seaborn as sns\n",
        "from sklearn.preprocessing import MinMaxScaler\n",
        "from sklearn.model_selection import train_test_split\n",
        "from sklearn.linear_model import LogisticRegression\n",
        "from sklearn.metrics import confusion_matrix, classification_report, roc_curve, roc_auc_score, accuracy_score, precision_score, recall_score, f1_score\n",
        "from sklearn.ensemble import RandomForestClassifier\n"
      ]
    },
    {
      "cell_type": "code",
      "source": [
        "from sklearn.metrics import ConfusionMatrixDisplay"
      ],
      "metadata": {
        "id": "l-w5NE9f8hN1"
      },
      "execution_count": null,
      "outputs": []
    },
    {
      "cell_type": "code",
      "source": [
        "from sklearn.preprocessing import LabelEncoder\n",
        "from sklearn.preprocessing import OneHotEncoder"
      ],
      "metadata": {
        "id": "chHwHqO67fy8"
      },
      "execution_count": null,
      "outputs": []
    },
    {
      "cell_type": "code",
      "source": [
        "Churn_df = pd.read_csv('/content/streaming_data.csv')\n",
        "Churn_df.head()"
      ],
      "metadata": {
        "id": "reQh-VXstYR8",
        "collapsed": true
      },
      "execution_count": null,
      "outputs": []
    },
    {
      "cell_type": "code",
      "source": [
        "Churn_df.info()"
      ],
      "metadata": {
        "id": "x-FKl8mftpA2",
        "collapsed": true
      },
      "execution_count": null,
      "outputs": []
    },
    {
      "cell_type": "code",
      "source": [
        "Churn_df.describe()"
      ],
      "metadata": {
        "id": "W-yuMm87twtJ"
      },
      "execution_count": null,
      "outputs": []
    },
    {
      "cell_type": "code",
      "source": [
        "Churn_df.isnull().sum()"
      ],
      "metadata": {
        "id": "jIxTwE-Cty6C"
      },
      "execution_count": null,
      "outputs": []
    },
    {
      "cell_type": "code",
      "source": [
        "plt.hist(Churn_df['Age'])"
      ],
      "metadata": {
        "id": "VCWj8D6xuFOI"
      },
      "execution_count": null,
      "outputs": []
    },
    {
      "cell_type": "code",
      "source": [
        "df_aux = Churn_df.groupby('Subscription_type').sum()"
      ],
      "metadata": {
        "id": "hm2oJx9MvKkQ"
      },
      "execution_count": null,
      "outputs": []
    },
    {
      "cell_type": "code",
      "source": [
        "plt.bar(df_aux.index,df_aux['Churned'])"
      ],
      "metadata": {
        "id": "5e3A_UJjwUeS"
      },
      "execution_count": null,
      "outputs": []
    },
    {
      "cell_type": "code",
      "source": [
        "df_aux = Churn_df.groupby('Gender').sum()"
      ],
      "metadata": {
        "id": "JXdAYSGOxOoD"
      },
      "execution_count": null,
      "outputs": []
    },
    {
      "cell_type": "code",
      "source": [
        "plt.bar(df_aux.index,df_aux['Churned'])"
      ],
      "metadata": {
        "id": "KqPACC6nxVPm"
      },
      "execution_count": null,
      "outputs": []
    },
    {
      "cell_type": "code",
      "source": [
        "df_aux = Churn_df.groupby('Devices_connected').sum()"
      ],
      "metadata": {
        "id": "F6H4Jss-xrCT"
      },
      "execution_count": null,
      "outputs": []
    },
    {
      "cell_type": "code",
      "source": [
        "plt.bar(df_aux.index,df_aux['Churned'])"
      ],
      "metadata": {
        "id": "87zxPeb6yR7R"
      },
      "execution_count": null,
      "outputs": []
    },
    {
      "cell_type": "code",
      "source": [
        "plt.hist(Churn_df['Avg_rating'])"
      ],
      "metadata": {
        "id": "jjJP8PklyU8T"
      },
      "execution_count": null,
      "outputs": []
    },
    {
      "cell_type": "code",
      "source": [
        "df_aux = Churn_df[['Avg_rating','Churned']].groupby('Churned').mean()"
      ],
      "metadata": {
        "id": "gTbX4Wgsyitc"
      },
      "execution_count": null,
      "outputs": []
    },
    {
      "cell_type": "code",
      "source": [
        "plt.bar(df_aux.index,df_aux['Avg_rating'])"
      ],
      "metadata": {
        "id": "LTfKh-Omy5eF"
      },
      "execution_count": null,
      "outputs": []
    },
    {
      "cell_type": "code",
      "source": [
        "plt.hist(Churn_df['Num_streaming_services'])"
      ],
      "metadata": {
        "id": "g5ZADgL_zCaO"
      },
      "execution_count": null,
      "outputs": []
    },
    {
      "cell_type": "code",
      "source": [
        "Churn_df['Time_on_platform'].fillna(0,inplace=True)"
      ],
      "metadata": {
        "id": "AqG7JrN_1T8w"
      },
      "execution_count": null,
      "outputs": []
    },
    {
      "cell_type": "code",
      "source": [
        "Churn_df['Num_streaming_services'].fillna(0,inplace = True)"
      ],
      "metadata": {
        "id": "Xs80QPvk19TL"
      },
      "execution_count": null,
      "outputs": []
    },
    {
      "cell_type": "code",
      "source": [
        "Churn_df['Churned'].fillna(0,inplace = True)"
      ],
      "metadata": {
        "id": "_DnSq6552NoX"
      },
      "execution_count": null,
      "outputs": []
    },
    {
      "cell_type": "code",
      "source": [
        "Churn_df['Avg_rating'] = Churn_df['Avg_rating'].fillna(0)"
      ],
      "metadata": {
        "id": "Cv9BEO0s2ZJw"
      },
      "execution_count": null,
      "outputs": []
    },
    {
      "cell_type": "code",
      "source": [
        "Churn_df['Devices_connected']= Churn_df['Devices_connected'].fillna(0)"
      ],
      "metadata": {
        "id": "GsQtqfBW2efH"
      },
      "execution_count": null,
      "outputs": []
    },
    {
      "cell_type": "code",
      "source": [
        "Churn_df.dropna(inplace = True)"
      ],
      "metadata": {
        "id": "5wlqo_302kmx"
      },
      "execution_count": null,
      "outputs": []
    },
    {
      "cell_type": "code",
      "source": [
        "Churn_df.isnull().sum()"
      ],
      "metadata": {
        "id": "ImCJIDMg3FQv"
      },
      "execution_count": null,
      "outputs": []
    },
    {
      "cell_type": "code",
      "source": [
        "Churn_df['Churned'] = Churn_df['Churned'].replace(to_replace='yes',value = 1)\n",
        "Churn_df['Churned'] = Churn_df['Churned'].replace(to_replace='no',value = 0)"
      ],
      "metadata": {
        "id": "J4fo-O5B2FTE"
      },
      "execution_count": null,
      "outputs": []
    },
    {
      "cell_type": "code",
      "source": [
        "Churn_df.info()"
      ],
      "metadata": {
        "id": "a85WQNdV4iFD"
      },
      "execution_count": null,
      "outputs": []
    },
    {
      "cell_type": "code",
      "source": [
        "Churn_df[['Age','Time_on_platform','Devices_connected','Num_streaming_services','Avg_rating']]=Churn_df[['Age','Time_on_platform','Devices_connected','Num_streaming_services','Avg_rating']].astype(int)"
      ],
      "metadata": {
        "id": "NEZqGPLw6NgN"
      },
      "execution_count": null,
      "outputs": []
    },
    {
      "cell_type": "code",
      "source": [
        "Le = LabelEncoder()"
      ],
      "metadata": {
        "id": "zWLeXEHu7H8s"
      },
      "execution_count": null,
      "outputs": []
    },
    {
      "cell_type": "code",
      "source": [
        "Churn_df['Subscription_type'] = Le.fit_transform(Churn_df['Subscription_type'])\n",
        "Churn_df = Churn_df.drop('User_id',axis = 1)"
      ],
      "metadata": {
        "id": "mdLlc5tDIDEN"
      },
      "execution_count": null,
      "outputs": []
    },
    {
      "cell_type": "code",
      "source": [
        "Churn_df = pd.get_dummies(Churn_df,columns=['Gender'])"
      ],
      "metadata": {
        "id": "DOU8NHVtYzRs"
      },
      "execution_count": null,
      "outputs": []
    },
    {
      "cell_type": "code",
      "source": [
        "sns.heatmap(Churn_df.corr())"
      ],
      "metadata": {
        "id": "A1j71R4SYYQg"
      },
      "execution_count": null,
      "outputs": []
    },
    {
      "cell_type": "code",
      "source": [
        "Scaler = MinMaxScaler()\n",
        "Churn_df_scaled = Scaler.fit_transform(Churn_df)\n",
        "Churn_df_scaled = pd.DataFrame(Churn_df_scaled,columns = Churn_df.columns)\n",
        "Churn_df_scaled.head()"
      ],
      "metadata": {
        "id": "HX7DbvIVb8DZ"
      },
      "execution_count": null,
      "outputs": []
    },
    {
      "cell_type": "code",
      "source": [
        "Churn_df_scaled.corr()['Churned']"
      ],
      "metadata": {
        "id": "Y4exprZYchfz"
      },
      "execution_count": null,
      "outputs": []
    },
    {
      "cell_type": "code",
      "source": [
        "X = Churn_df.drop(['Churned'],axis = 1)\n",
        "y = Churn_df['Churned']\n",
        "X.head()"
      ],
      "metadata": {
        "id": "pOI2mU6E6scE"
      },
      "execution_count": null,
      "outputs": []
    },
    {
      "cell_type": "code",
      "source": [
        "X_train, X_test, y_train, y_test = train_test_split(X_scaled, y, test_size=0.2, random_state=42, stratify=y)"
      ],
      "metadata": {
        "id": "wAD3KbOj7CHj"
      },
      "execution_count": null,
      "outputs": []
    },
    {
      "cell_type": "code",
      "source": [
        "Lr = LogisticRegression()\n",
        "Lr.fit(X_train,y_train)"
      ],
      "metadata": {
        "id": "9LwNJqN476bS"
      },
      "execution_count": null,
      "outputs": []
    },
    {
      "cell_type": "code",
      "source": [
        "y_pred_test_Lr = Lr.predict(X_test)"
      ],
      "metadata": {
        "id": "4QDaGqdW8ONi"
      },
      "execution_count": null,
      "outputs": []
    },
    {
      "cell_type": "code",
      "source": [
        "y_pred_train_Lr = Lr.predict(X_train)"
      ],
      "metadata": {
        "id": "HyPc8APQ8XDa"
      },
      "execution_count": null,
      "outputs": []
    },
    {
      "cell_type": "code",
      "source": [
        "Mc = confusion_matrix(y_test,y_pred_test_Lr)"
      ],
      "metadata": {
        "id": "xT9s6IOX8yRK"
      },
      "execution_count": null,
      "outputs": []
    },
    {
      "cell_type": "code",
      "source": [
        "ConfusionMatrixDisplay(Mc).plot()"
      ],
      "metadata": {
        "id": "ThD5RaMe9DLl"
      },
      "execution_count": null,
      "outputs": []
    },
    {
      "cell_type": "code",
      "source": [
        "Mc = confusion_matrix(y_train,y_pred_train_Lr)\n",
        "ConfusionMatrixDisplay(Mc).plot()"
      ],
      "metadata": {
        "id": "5wKcZd4095OA"
      },
      "execution_count": null,
      "outputs": []
    },
    {
      "cell_type": "code",
      "source": [
        "print('Accuracy_test: ',accuracy_score(y_test,y_pred_test_Lr))\n",
        "print('Accuracy_train: ',accuracy_score(y_train,y_pred_train_Lr))\n",
        "print('Precision_test: ',precision_score(y_test,y_pred_test_Lr,pos_label = 1))\n",
        "print('Precision_train: ',precision_score(y_train,y_pred_train_Lr,pos_label = 1))\n",
        "print('Recall_test: ',recall_score(y_test,y_pred_test_Lr,pos_label = 1))\n",
        "print('Recall_train: ',recall_score(y_train,y_pred_train_Lr,pos_label = 1))\n",
        "print('F1_test: ',f1_score(y_test,y_pred_test_Lr,pos_label = 1))\n",
        "print('F1_train: ',f1_score(y_train,y_pred_train_Lr,pos_label = 1))"
      ],
      "metadata": {
        "id": "9clTasqg-DIW"
      },
      "execution_count": null,
      "outputs": []
    },
    {
      "cell_type": "code",
      "source": [
        "Rf = RandomForestClassifier()\n",
        "Rf.fit(X_train,y_train)\n",
        "y_pred_test_Rf = Rf.predict(X_test)\n",
        "y_pred_train_Rf = Rf.predict(X_train)\n",
        "Mc = confusion_matrix(y_test,y_pred_test_Rf)\n",
        "ConfusionMatrixDisplay(Mc).plot()\n",
        "print('Accuracy_test: ',accuracy_score(y_test,y_pred_test_Rf))\n",
        "print('Accuracy_train: ',accuracy_score(y_train,y_pred_train_Rf))\n",
        "print('Precision_test: ',precision_score(y_test,y_pred_test_Rf,pos_label = 1))\n",
        "print('Precision_train: ',precision_score(y_train,y_pred_train_Rf,pos_label = 1))\n",
        "print('Recall_test: ',recall_score(y_test,y_pred_test_Rf,pos_label = 1))\n",
        "print('Recall_train: ',recall_score(y_train,y_pred_train_Rf,pos_label = 1))\n",
        "print('F1_test: ',f1_score(y_test,y_pred_test_Rf,pos_label = 1))\n",
        "print('F1_train: ',f1_score(y_train,y_pred_train_Rf,pos_label = 1))"
      ],
      "metadata": {
        "id": "QZDRFm5EpEbF"
      },
      "execution_count": null,
      "outputs": []
    },
    {
      "cell_type": "code",
      "source": [
        "from sklearn.model_selection import GridSearchCV\n",
        "params_Rf = {\n",
        "    'n_estimators': [100,600,1000],\n",
        "    'max_depth': [None,10, 20],\n",
        "    'min_samples_split': [2, 5, 10],\n",
        "}\n",
        "Gs = GridSearchCV(param_grid = params_Rf,n_jobs = -1,estimator = Rf,cv=5,scoring = 'accuracy')\n",
        "Gs.fit(X_train,y_train)"
      ],
      "metadata": {
        "id": "k-LnOBVhqeUZ"
      },
      "execution_count": null,
      "outputs": []
    },
    {
      "cell_type": "code",
      "source": [
        "Gs.best_params_"
      ],
      "metadata": {
        "id": "ZXS-jhNZCRBa"
      },
      "execution_count": null,
      "outputs": []
    },
    {
      "cell_type": "code",
      "source": [
        "Rf_tuned = RandomForestClassifier(max_depth = 20,\n",
        "              min_samples_split = 2,\n",
        "              n_estimators= 600)"
      ],
      "metadata": {
        "id": "lnVkgeDyCmYb"
      },
      "execution_count": null,
      "outputs": []
    },
    {
      "cell_type": "code",
      "source": [
        "Rf_tuned.fit(X_train,y_train)\n",
        "y_pred_test_Rf_t = Rf.predict(X_test)\n",
        "y_pred_train_Rf_t = Rf.predict(X_train)\n",
        "Mc = confusion_matrix(y_test,y_pred_test_Rf_t)\n",
        "ConfusionMatrixDisplay(Mc).plot()\n",
        "print('Accuracy_test: ',accuracy_score(y_test,y_pred_test_Rf_t))\n",
        "print('Accuracy_train: ',accuracy_score(y_train,y_pred_train_Rf_t))\n",
        "print('Precision_test: ',precision_score(y_test,y_pred_test_Rf_t,pos_label = 1))\n",
        "print('Precision_train: ',precision_score(y_train,y_pred_train_Rf_t,pos_label = 1))\n",
        "print('Recall_test: ',recall_score(y_test,y_pred_test_Rf_t,pos_label = 1))\n",
        "print('Recall_train: ',recall_score(y_train,y_pred_train_Rf_t,pos_label = 1))\n",
        "print('F1_test: ',f1_score(y_test,y_pred_test_Rf_t,pos_label = 1))\n",
        "print('F1_train: ',f1_score(y_train,y_pred_train_Rf_t,pos_label = 1))"
      ],
      "metadata": {
        "id": "_SgNm2L9DwKb"
      },
      "execution_count": null,
      "outputs": []
    },
    {
      "cell_type": "code",
      "source": [
        "params_Lr = {'penalty' : ['l1', 'l2', 'elasticnet', None],\n",
        "             'solver' : ['newton-cg', 'lbfgs', 'liblinear', 'sag', 'saga'],\n",
        "}\n",
        "Gs_Lr = GridSearchCV(param_grid = params_Lr,n_jobs = -1,estimator = Lr,cv=5,scoring = 'accuracy')\n",
        "Gs_Lr.fit(X_train,y_train)"
      ],
      "metadata": {
        "id": "A9_pjTChEVBi"
      },
      "execution_count": null,
      "outputs": []
    },
    {
      "cell_type": "code",
      "source": [
        "Gs_Lr.best_params_"
      ],
      "metadata": {
        "id": "xVxdZOLuEiiK"
      },
      "execution_count": null,
      "outputs": []
    },
    {
      "cell_type": "code",
      "source": [
        "Lr_tuned = LogisticRegression(penalty = 'l1', solver = 'liblinear')"
      ],
      "metadata": {
        "id": "i5yoBNJ3F-P8"
      },
      "execution_count": null,
      "outputs": []
    },
    {
      "cell_type": "code",
      "source": [
        "Lr_tuned.fit(X_train,y_train)\n",
        "y_pred_test_Lr_t = Lr_tuned.predict(X_test)\n",
        "y_pred_train_Lr_t = Lr_tuned.predict(X_train)\n",
        "Mc = confusion_matrix(y_test,y_pred_test_Lr_t)\n",
        "ConfusionMatrixDisplay(Mc).plot()\n",
        "print('Accuracy_test: ',accuracy_score(y_test,y_pred_test_Lr_t))\n",
        "print('Accuracy_train: ',accuracy_score(y_train,y_pred_train_Lr_t))\n",
        "print('precision_test: ',precision_score(y_test,y_pred_test_Lr_t,pos_label = 1))\n",
        "print('precision_train: ',precision_score(y_train,y_pred_train_Lr_t,pos_label = 1))\n",
        "print('recall_test: ',recall_score(y_test,y_pred_test_Lr_t,pos_label = 1))\n",
        "print('recall_train: ',recall_score(y_train,y_pred_train_Lr_t,pos_label = 1))\n",
        "print('f1_test: ',f1_score(y_test,y_pred_test_Lr_t,pos_label = 1))\n",
        "print('f1_train: ',f1_score(y_train,y_pred_train_Lr_t,pos_label = 1))"
      ],
      "metadata": {
        "id": "iu1uywr3GJ4f"
      },
      "execution_count": null,
      "outputs": []
    }
  ]
}